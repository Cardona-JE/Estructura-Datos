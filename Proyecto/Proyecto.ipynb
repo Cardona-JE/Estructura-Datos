{
  "nbformat": 4,
  "nbformat_minor": 0,
  "metadata": {
    "colab": {
      "provenance": [],
      "authorship_tag": "ABX9TyOUhBGKm0+o8Ba3InVydW3L",
      "include_colab_link": true
    },
    "kernelspec": {
      "name": "python3",
      "display_name": "Python 3"
    },
    "language_info": {
      "name": "python"
    }
  },
  "cells": [
    {
      "cell_type": "markdown",
      "metadata": {
        "id": "view-in-github",
        "colab_type": "text"
      },
      "source": [
        "<a href=\"https://colab.research.google.com/github/Cardona-JE/Estructura-Datos/blob/main/Proyecto/Proyecto.ipynb\" target=\"_parent\"><img src=\"https://colab.research.google.com/assets/colab-badge.svg\" alt=\"Open In Colab\"/></a>"
      ]
    },
    {
      "cell_type": "markdown",
      "source": [
        "\n",
        "El programa utiliza diversos modelos de regresión para predecir las ventas globales de videojuegos en función del género y el año de lanzamiento. Comienza por cargar y filtrar los datos, codificar las etiquetas, y dividirlos en conjuntos de entrenamiento y prueba. Luego, entrena modelos de regresión lineal, árbol de decisión, regresión ridge, Random Forest y XGBoost. Cada modelo captura patrones y relaciones específicas en los datos. Finalmente, evalúa y compara el rendimiento de cada modelo mediante el cálculo del Error Cuadrático Medio (MSE) y visualiza sus relaciones jerárquicas en un grafo, proporcionando una visión comparativa de su eficacia para prever las ventas globales de videojuegos."
      ],
      "metadata": {
        "id": "KURvscwy3AAr"
      }
    },
    {
      "cell_type": "code",
      "source": [
        "import warnings\n",
        "warnings.filterwarnings(\"ignore\", category=UserWarning)\n",
        "\n",
        "# Elimina un \"error\" que aparecia, que no afectaba para nada el funcionamiento del programa"
      ],
      "metadata": {
        "id": "PgQ_6KMoy_kJ"
      },
      "execution_count": 102,
      "outputs": []
    },
    {
      "cell_type": "markdown",
      "source": [
        "**Modelo de Regresion lineal**"
      ],
      "metadata": {
        "id": "zeWeykUlfvEX"
      }
    },
    {
      "cell_type": "code",
      "source": [
        "import pandas as pd\n",
        "from sklearn.model_selection import train_test_split\n",
        "from sklearn.linear_model import LinearRegression\n",
        "from sklearn.metrics import mean_squared_error\n",
        "from sklearn.preprocessing import LabelEncoder\n",
        "\n",
        "# Lee el archivo CSV\n",
        "df = pd.read_csv('/content/Ventas_videojuegos.csv')  # Asegúrate de reemplazar 'tu_archivo.csv' con el nombre real de tu archivo\n",
        "\n",
        "# Filtra las columnas necesarias\n",
        "df = df[['Genre', 'Year_of_Release', 'Global_Sales']]\n",
        "\n",
        "# Manejo de valores nulos\n",
        "df.dropna(inplace=True)\n",
        "\n",
        "# Codificación de etiquetas para la columna 'Genre'\n",
        "label_encoder = LabelEncoder()\n",
        "df['Genre'] = label_encoder.fit_transform(df['Genre'])\n",
        "\n",
        "# Divide los datos en conjuntos de entrenamiento y prueba\n",
        "X = df[['Genre', 'Year_of_Release']]\n",
        "y = df['Global_Sales']\n",
        "X_train, X_test, y_train, y_test = train_test_split(X, y, test_size=0.2, random_state=42)\n",
        "\n",
        "# Entrenamiento del modelo de regresión lineal\n",
        "model = LinearRegression()\n",
        "model.fit(X_train, y_train)\n",
        "\n",
        "# Predicciones\n",
        "y_pred = model.predict(X_test)\n",
        "\n",
        "# Evaluar el rendimiento del modelo\n",
        "mse_linear_regression = mean_squared_error(y_test, y_pred)\n",
        "print(f'Mean Squared Error(linear_regression): {mse_linear_regression}')\n",
        "\n",
        "# Hacer predicciones para un año específico, por ejemplo, 2023 y el género 'Platform'\n",
        "year_to_predict = 2023\n",
        "genre_to_predict = 'Platform'\n",
        "encoded_genre = label_encoder.transform([genre_to_predict])[0]\n",
        "\n",
        "sales_prediction = model.predict([[encoded_genre, year_to_predict]])*10\n",
        "print(f'Predicción de ventas globales para el género {genre_to_predict} en {year_to_predict}: {sales_prediction[0]} millones de unidades')\n"
      ],
      "metadata": {
        "colab": {
          "base_uri": "https://localhost:8080/"
        },
        "id": "hEZ9CbYqSoWH",
        "outputId": "1e4559bc-8d73-4550-9283-9abcad87c117"
      },
      "execution_count": 103,
      "outputs": [
        {
          "output_type": "stream",
          "name": "stdout",
          "text": [
            "Mean Squared Error(linear_regression): 4.224413029497195\n",
            "Predicción de ventas globales para el género Platform en 2023: 1.391896251040876 millones de unidades\n"
          ]
        }
      ]
    },
    {
      "cell_type": "markdown",
      "source": [
        "**Modelo de arbol de desicion**"
      ],
      "metadata": {
        "id": "g69zDyJ9f53d"
      }
    },
    {
      "cell_type": "code",
      "source": [
        "import pandas as pd\n",
        "from sklearn.model_selection import train_test_split\n",
        "from sklearn.tree import DecisionTreeRegressor\n",
        "from sklearn.metrics import mean_squared_error\n",
        "from sklearn.preprocessing import LabelEncoder\n",
        "\n",
        "# Entrenamiento del modelo de árbol de decisión\n",
        "model = DecisionTreeRegressor()\n",
        "model.fit(X_train, y_train)\n",
        "\n",
        "# Predicciones\n",
        "y_pred = model.predict(X_test)\n",
        "\n",
        "# Evaluar el rendimiento del modelo\n",
        "mse_decision_tree = mean_squared_error(y_test, y_pred)\n",
        "print(f'Mean Squared Error (decision_tree): {mse_decision_tree}')\n",
        "\n",
        "# Hacer predicciones para un año específico, por ejemplo, 2023 y el género 'Platform'\n",
        "year_to_predict = 2023\n",
        "genre_to_predict = 'Platform'\n",
        "encoded_genre = label_encoder.transform([genre_to_predict])[0]\n",
        "\n",
        "sales_prediction = model.predict([[encoded_genre, year_to_predict]])*10\n",
        "print(f'Predicción de ventas globales para el género {genre_to_predict} en {year_to_predict}: {sales_prediction[0]} millones de unidades')"
      ],
      "metadata": {
        "colab": {
          "base_uri": "https://localhost:8080/"
        },
        "id": "zLK3N7PeesxI",
        "outputId": "90dcc234-5fd6-4d95-ebba-42380e320106"
      },
      "execution_count": 104,
      "outputs": [
        {
          "output_type": "stream",
          "name": "stdout",
          "text": [
            "Mean Squared Error (decision_tree): 4.329698049298989\n",
            "Predicción de ventas globales para el género Platform en 2023: 2.1538461538461537 millones de unidades\n"
          ]
        }
      ]
    },
    {
      "cell_type": "markdown",
      "source": [
        "**Modelo Ridge**"
      ],
      "metadata": {
        "id": "6p3QgRDTgAgP"
      }
    },
    {
      "cell_type": "code",
      "source": [
        "import pandas as pd\n",
        "from sklearn.model_selection import train_test_split\n",
        "from sklearn.linear_model import Ridge\n",
        "from sklearn.metrics import mean_squared_error\n",
        "from sklearn.preprocessing import LabelEncoder\n",
        "\n",
        "# Entrenamiento del modelo de regresión ridge\n",
        "model = Ridge()\n",
        "model.fit(X_train, y_train)\n",
        "\n",
        "# Predicciones\n",
        "y_pred = model.predict(X_test)\n",
        "\n",
        "# Evaluar el rendimiento del modelo\n",
        "mse_ridge = mean_squared_error(y_test, y_pred)\n",
        "print(f'Mean Squared Error (Ridge): {mse_ridge}')\n",
        "\n",
        "# Hacer predicciones para un año específico, por ejemplo, 2023 y el género 'Platform'\n",
        "year_to_predict = 2023\n",
        "genre_to_predict = 'Platform'\n",
        "encoded_genre = label_encoder.transform([genre_to_predict])[0]\n",
        "\n",
        "sales_prediction = model.predict([[encoded_genre, year_to_predict]])*10\n",
        "print(f'Predicción de ventas globales para el género {genre_to_predict} en {year_to_predict}: {sales_prediction[0]} millones de unidades')"
      ],
      "metadata": {
        "colab": {
          "base_uri": "https://localhost:8080/"
        },
        "id": "ZxhQpsTIfBRp",
        "outputId": "66e619ea-4dea-4366-ab30-55536bbd2f91"
      },
      "execution_count": 105,
      "outputs": [
        {
          "output_type": "stream",
          "name": "stdout",
          "text": [
            "Mean Squared Error (Ridge): 4.224412969051665\n",
            "Predicción de ventas globales para el género Platform en 2023: 1.3919047742516 millones de unidades\n"
          ]
        }
      ]
    },
    {
      "cell_type": "markdown",
      "source": [
        "**Random Forest**\n"
      ],
      "metadata": {
        "id": "shi4j_RdxUmH"
      }
    },
    {
      "cell_type": "code",
      "source": [
        "from sklearn.ensemble import RandomForestRegressor\n",
        "\n",
        "# División de datos\n",
        "X_train, X_test, y_train, y_test = train_test_split(X, y, test_size=0.2, random_state=42)\n",
        "\n",
        "# Entrenamiento del modelo Random Forest\n",
        "random_forest_model = RandomForestRegressor(n_estimators=100, random_state=42)\n",
        "random_forest_model.fit(X_train, y_train)\n",
        "\n",
        "# Predicciones\n",
        "y_pred_rf = random_forest_model.predict(X_test)\n",
        "\n",
        "# Evaluación del rendimiento del modelo\n",
        "mse_rf = mean_squared_error(y_test, y_pred_rf)\n",
        "print(f'Mean Squared Error (Random Forest): {mse_rf}')\n",
        "\n",
        "# Hacer predicciones para un año específico y género\n",
        "sales_prediction_rf = random_forest_model.predict([[encoded_genre, year_to_predict]])*10\n",
        "print(f'Predicción de ventas globales para el género {genre_to_predict} en {year_to_predict} (Random Forest): {sales_prediction_rf[0]} millones de unidades')\n"
      ],
      "metadata": {
        "colab": {
          "base_uri": "https://localhost:8080/"
        },
        "id": "CACSYgRSiPy0",
        "outputId": "67632598-2f48-4e2f-aa4e-de05a61e8328"
      },
      "execution_count": 106,
      "outputs": [
        {
          "output_type": "stream",
          "name": "stdout",
          "text": [
            "Mean Squared Error (Random Forest): 4.301497659621158\n",
            "Predicción de ventas globales para el género Platform en 2023 (Random Forest): 2.116589300366816 millones de unidades\n"
          ]
        }
      ]
    },
    {
      "cell_type": "markdown",
      "source": [
        "**XGB Regressor**"
      ],
      "metadata": {
        "id": "-Pjt8KrgxZp4"
      }
    },
    {
      "cell_type": "code",
      "source": [
        "from xgboost import XGBRegressor\n",
        "\n",
        "# División de datos\n",
        "X_train, X_test, y_train, y_test = train_test_split(X, y, test_size=0.2, random_state=42)\n",
        "\n",
        "# Entrenamiento del modelo Gradient Boosting (XGBoost)\n",
        "xgb_model = XGBRegressor(objective ='reg:squarederror', random_state=42)\n",
        "xgb_model.fit(X_train, y_train)\n",
        "\n",
        "# Predicciones\n",
        "y_pred_xgb = xgb_model.predict(X_test)\n",
        "\n",
        "# Evaluación del rendimiento del modelo\n",
        "mse_xgb = mean_squared_error(y_test, y_pred_xgb)\n",
        "print(f'Mean Squared Error (XGBoost): {mse_xgb}')\n",
        "\n",
        "# Hacer predicciones para un año específico y género\n",
        "sales_prediction_xgb = xgb_model.predict([[encoded_genre, year_to_predict]])*10\n",
        "print(f'Predicción de ventas globales para el género {genre_to_predict} en {year_to_predict} (XGBoost): {sales_prediction_xgb[0]} millones de unidades')\n"
      ],
      "metadata": {
        "colab": {
          "base_uri": "https://localhost:8080/"
        },
        "id": "arzr4jAvip9K",
        "outputId": "67e194b4-3693-49df-8bcb-38598769ad5c"
      },
      "execution_count": 107,
      "outputs": [
        {
          "output_type": "stream",
          "name": "stdout",
          "text": [
            "Mean Squared Error (XGBoost): 4.316280753108709\n",
            "Predicción de ventas globales para el género Platform en 2023 (XGBoost): 0.668180525302887 millones de unidades\n"
          ]
        }
      ]
    },
    {
      "cell_type": "code",
      "source": [
        "models = {\n",
        "    'Linear Regression': mse_linear_regression,\n",
        "    'Decision Tree': mse_decision_tree,\n",
        "    'Ridge Regression': mse_ridge,\n",
        "    'Random Forest': mse_rf,\n",
        "    'XGBoost': mse_xgb\n",
        "}\n",
        "sorted_models = sorted(models.items(), key=lambda x: x[1])\n"
      ],
      "metadata": {
        "id": "GIkXKgUOk37x"
      },
      "execution_count": 108,
      "outputs": []
    },
    {
      "cell_type": "code",
      "source": [
        "import networkx as nx\n",
        "import matplotlib.pyplot as plt\n",
        "\n",
        "# Crear un grafo dirigido (árbol binario)\n",
        "G = nx.DiGraph()\n",
        "\n",
        "# Agregar nodos al grafo\n",
        "for model, mse in sorted_models:\n",
        "    G.add_node(model, mse=mse)\n",
        "\n",
        "# Agregar aristas al grafo (conectar nodos según el orden de eficiencia)\n",
        "for i in range(len(sorted_models) - 1):\n",
        "    G.add_edge(sorted_models[i][0], sorted_models[i + 1][0])\n",
        "\n",
        "# Dibujar el grafo con etiquetas\n",
        "pos = nx.spring_layout(G)\n",
        "nx.draw(G, pos, with_labels=False, font_weight='bold', node_size=1000, node_color='lightblue', font_size=8)\n",
        "\n",
        "# Añadir etiquetas de MSE a los nodos\n",
        "labels = nx.get_node_attributes(G, 'mse')\n",
        "for node, (x, y) in pos.items():\n",
        "    plt.text(x, y, f\"{node}\\nMSE: {labels[node]:.2f}\", ha='center', va='center', bbox=dict(facecolor='white', edgecolor='none', boxstyle='round,pad=0.3'))\n",
        "\n",
        "# Añadir etiquetas de MSE a las aristas\n",
        "edge_labels = nx.get_edge_attributes(G, 'mse')\n",
        "for edge, mse in edge_labels.items():\n",
        "    x, y = (pos[edge[0]][0] + pos[edge[1]][0]) / 2, (pos[edge[0]][1] + pos[edge[1]][1]) / 2\n",
        "    plt.text(x, y, f\"MSE: {mse:.2f}\", ha='center', va='center', bbox=dict(facecolor='white', edgecolor='none', boxstyle='round,pad=0.3'))\n",
        "\n",
        "# Mostrar el gráfico\n",
        "plt.show()\n"
      ],
      "metadata": {
        "colab": {
          "base_uri": "https://localhost:8080/",
          "height": 516
        },
        "id": "IR1S4pkiljUM",
        "outputId": "1be0eefc-111f-4d83-81e8-f2e39a04f26f"
      },
      "execution_count": 110,
      "outputs": [
        {
          "output_type": "display_data",
          "data": {
            "text/plain": [
              "<Figure size 640x480 with 1 Axes>"
            ],
            "image/png": "[encoded data removed]"
          },
          "metadata": {}
        }
      ]
    }
  ]
}