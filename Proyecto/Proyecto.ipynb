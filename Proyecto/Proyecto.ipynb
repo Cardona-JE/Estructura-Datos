{
  "nbformat": 4,
  "nbformat_minor": 0,
  "metadata": {
    "colab": {
      "provenance": [],
      "authorship_tag": "ABX9TyP2RFSEdVtzu4G7/dTv4Fov",
      "include_colab_link": true
    },
    "kernelspec": {
      "name": "python3",
      "display_name": "Python 3"
    },
    "language_info": {
      "name": "python"
    }
  },
  "cells": [
    {
      "cell_type": "markdown",
      "metadata": {
        "id": "view-in-github",
        "colab_type": "text"
      },
      "source": [
        "<a href=\"https://colab.research.google.com/github/Cardona-JE/Estructura-Datos/blob/main/Proyecto/Proyecto.ipynb\" target=\"_parent\"><img src=\"https://colab.research.google.com/assets/colab-badge.svg\" alt=\"Open In Colab\"/></a>"
      ]
    },
    {
      "cell_type": "markdown",
      "source": [
        "\n",
        "El programa utiliza diversos modelos de regresión para predecir las ventas globales de videojuegos en función del género y el año de lanzamiento. Comienza por cargar y filtrar los datos, codificar las etiquetas, y dividirlos en conjuntos de entrenamiento y prueba. Luego, entrena modelos de regresión lineal, árbol de decisión, regresión ridge, Random Forest y XGBoost. Cada modelo captura patrones y relaciones específicas en los datos. Finalmente, evalúa y compara el rendimiento de cada modelo mediante el cálculo del Error Cuadrático Medio (MSE) y visualiza sus relaciones jerárquicas en un grafo, proporcionando una visión comparativa de su eficacia para prever las ventas globales de videojuegos."
      ],
      "metadata": {
        "id": "KURvscwy3AAr"
      }
    },
    {
      "cell_type": "code",
      "source": [
        "import warnings\n",
        "warnings.filterwarnings(\"ignore\", category=UserWarning)\n",
        "\n",
        "# Elimina un \"error\" que aparecia, que no afectaba para nada el funcionamiento del programa"
      ],
      "metadata": {
        "id": "PgQ_6KMoy_kJ"
      },
      "execution_count": 116,
      "outputs": []
    },
    {
      "cell_type": "code",
      "source": [
        "año = int(input(\"Indique el año: \"))\n",
        "genero = str(input(\"Indique el genero: \"))"
      ],
      "metadata": {
        "colab": {
          "base_uri": "https://localhost:8080/"
        },
        "id": "Qs_jHXmp4EeX",
        "outputId": "2e18e42a-f8c1-41bc-c92c-454a2387e424"
      },
      "execution_count": 117,
      "outputs": [
        {
          "name": "stdout",
          "output_type": "stream",
          "text": [
            "Indique el año: 2023\n",
            "Indique el genero: Platform\n"
          ]
        }
      ]
    },
    {
      "cell_type": "markdown",
      "source": [
        "**Modelo de Regresion lineal**"
      ],
      "metadata": {
        "id": "zeWeykUlfvEX"
      }
    },
    {
      "cell_type": "code",
      "source": [
        "import pandas as pd\n",
        "from sklearn.model_selection import train_test_split\n",
        "from sklearn.linear_model import LinearRegression\n",
        "from sklearn.metrics import mean_squared_error\n",
        "from sklearn.preprocessing import LabelEncoder\n",
        "\n",
        "# Lee el archivo CSV\n",
        "df = pd.read_csv('/content/Ventas_videojuegos.csv')  ,
        "# Filtra las columnas necesarias\n",
        "df = df[['Genre', 'Year_of_Release', 'Global_Sales']]\n",
        "\n",
        "# Manejo de valores nulos\n",
        "df.dropna(inplace=True)\n",
        "\n",
        "# Codificación de etiquetas para la columna 'Genre'\n",
        "label_encoder = LabelEncoder()\n",
        "df['Genre'] = label_encoder.fit_transform(df['Genre'])\n",
        "\n",
        "# Divide los datos en conjuntos de entrenamiento y prueba\n",
        "X = df[['Genre', 'Year_of_Release']]\n",
        "y = df['Global_Sales']\n",
        "X_train, X_test, y_train, y_test = train_test_split(X, y, test_size=0.2, random_state=42)\n",
        "\n",
        "# Entrenamiento del modelo de regresión lineal\n",
        "model = LinearRegression()\n",
        "model.fit(X_train, y_train)\n",
        "\n",
        "# Predicciones\n",
        "y_pred = model.predict(X_test)\n",
        "\n",
        "# Evaluar el rendimiento del modelo\n",
        "mse_linear_regression = mean_squared_error(y_test, y_pred)\n",
        "print(f'Mean Squared Error(linear_regression): {mse_linear_regression}')\n",
        "\n",
        "year_to_predict = año\n",
        "genre_to_predict = genero\n",
        "encoded_genre = label_encoder.transform([genre_to_predict])[0]\n",
        "\n",
        "sales_prediction = model.predict([[encoded_genre, year_to_predict]])*10\n",
        "print(f'Predicción de ventas globales para el género {genre_to_predict} en {year_to_predict}: {sales_prediction[0]} millones de unidades')\n"
      ],
      "metadata": {
        "colab": {
          "base_uri": "https://localhost:8080/"
        },
        "id": "hEZ9CbYqSoWH",
        "outputId": "d0cdbc73-9588-4115-82b4-038e6711e545"
      },
      "execution_count": 118,
      "outputs": [
        {
          "output_type": "stream",
          "name": "stdout",
          "text": [
            "Mean Squared Error(linear_regression): 4.224413029497195\n",
            "Predicción de ventas globales para el género Platform en 2023: 1.391896251040876 millones de unidades\n"
          ]
        }
      ]
    },
    {
      "cell_type": "markdown",
      "source": [
        "**Modelo de arbol de desicion**"
      ],
      "metadata": {
        "id": "g69zDyJ9f53d"
      }
    },
    {
      "cell_type": "code",
      "source": [
        "import pandas as pd\n",
        "from sklearn.model_selection import train_test_split\n",
        "from sklearn.tree import DecisionTreeRegressor\n",
        "from sklearn.metrics import mean_squared_error\n",
        "from sklearn.preprocessing import LabelEncoder\n",
        "\n",
        "# Entrenamiento del modelo de árbol de decisión\n",
        "model = DecisionTreeRegressor()\n",
        "model.fit(X_train, y_train)\n",
        "\n",
        "# Predicciones\n",
        "y_pred = model.predict(X_test)\n",
        "\n",
        "# Evaluar el rendimiento del modelo\n",
        "mse_decision_tree = mean_squared_error(y_test, y_pred)\n",
        "print(f'Mean Squared Error (decision_tree): {mse_decision_tree}')\n",
        "\n",
        "year_to_predict = año\n",
        "genre_to_predict = genero\n",
        "encoded_genre = label_encoder.transform([genre_to_predict])[0]\n",
        "\n",
        "sales_prediction = model.predict([[encoded_genre, year_to_predict]])*10\n",
        "print(f'Predicción de ventas globales para el género {genre_to_predict} en {year_to_predict}: {sales_prediction[0]} millones de unidades')"
      ],
      "metadata": {
        "colab": {
          "base_uri": "https://localhost:8080/"
        },
        "id": "zLK3N7PeesxI",
        "outputId": "f851afd4-1e17-464f-baff-a206fee8ebae"
      },
      "execution_count": 119,
      "outputs": [
        {
          "output_type": "stream",
          "name": "stdout",
          "text": [
            "Mean Squared Error (decision_tree): 4.329396529542151\n",
            "Predicción de ventas globales para el género Platform en 2023: 2.153846153846154 millones de unidades\n"
          ]
        }
      ]
    },
    {
      "cell_type": "markdown",
      "source": [
        "**Modelo Ridge**"
      ],
      "metadata": {
        "id": "6p3QgRDTgAgP"
      }
    },
    {
      "cell_type": "code",
      "source": [
        "import pandas as pd\n",
        "from sklearn.model_selection import train_test_split\n",
        "from sklearn.linear_model import Ridge\n",
        "from sklearn.metrics import mean_squared_error\n",
        "from sklearn.preprocessing import LabelEncoder\n",
        "\n",
        "# Entrenamiento del modelo de regresión ridge\n",
        "model = Ridge()\n",
        "model.fit(X_train, y_train)\n",
        "\n",
        "# Predicciones\n",
        "y_pred = model.predict(X_test)\n",
        "\n",
        "# Evaluar el rendimiento del modelo\n",
        "mse_ridge = mean_squared_error(y_test, y_pred)\n",
        "print(f'Mean Squared Error (Ridge): {mse_ridge}')\n",
        "\n",
        "year_to_predict = año\n",
        "genre_to_predict = genero\n",
        "encoded_genre = label_encoder.transform([genre_to_predict])[0]\n",
        "\n",
        "sales_prediction = model.predict([[encoded_genre, year_to_predict]])*10\n",
        "print(f'Predicción de ventas globales para el género {genre_to_predict} en {year_to_predict}: {sales_prediction[0]} millones de unidades')"
      ],
      "metadata": {
        "colab": {
          "base_uri": "https://localhost:8080/"
        },
        "id": "ZxhQpsTIfBRp",
        "outputId": "a5ece264-1bb6-4cd5-fee2-55d5c9da2f2c"
      },
      "execution_count": 120,
      "outputs": [
        {
          "output_type": "stream",
          "name": "stdout",
          "text": [
            "Mean Squared Error (Ridge): 4.224412969051665\n",
            "Predicción de ventas globales para el género Platform en 2023: 1.3919047742516 millones de unidades\n"
          ]
        }
      ]
    },
    {
      "cell_type": "markdown",
      "source": [
        "**Random Forest**\n"
      ],
      "metadata": {
        "id": "shi4j_RdxUmH"
      }
    },
    {
      "cell_type": "code",
      "source": [
        "from sklearn.ensemble import RandomForestRegressor\n",
        "\n",
        "# División de datos\n",
        "X_train, X_test, y_train, y_test = train_test_split(X, y, test_size=0.2, random_state=42)\n",
        "\n",
        "# Entrenamiento del modelo Random Forest\n",
        "random_forest_model = RandomForestRegressor(n_estimators=100, random_state=42)\n",
        "random_forest_model.fit(X_train, y_train)\n",
        "\n",
        "# Predicciones\n",
        "y_pred_rf = random_forest_model.predict(X_test)\n",
        "\n",
        "# Evaluación del rendimiento del modelo\n",
        "mse_rf = mean_squared_error(y_test, y_pred_rf)\n",
        "print(f'Mean Squared Error (Random Forest): {mse_rf}')\n",
        "\n",
        "# Hacer predicciones para un año específico y género\n",
        "sales_prediction_rf = random_forest_model.predict([[encoded_genre, year_to_predict]])*10\n",
        "print(f'Predicción de ventas globales para el género {genre_to_predict} en {year_to_predict} (Random Forest): {sales_prediction_rf[0]} millones de unidades')\n"
      ],
      "metadata": {
        "colab": {
          "base_uri": "https://localhost:8080/"
        },
        "id": "CACSYgRSiPy0",
        "outputId": "3ef5aba2-96b4-4ac9-9204-429809458afe"
      },
      "execution_count": 121,
      "outputs": [
        {
          "output_type": "stream",
          "name": "stdout",
          "text": [
            "Mean Squared Error (Random Forest): 4.301497659621158\n",
            "Predicción de ventas globales para el género Platform en 2023 (Random Forest): 2.116589300366816 millones de unidades\n"
          ]
        }
      ]
    },
    {
      "cell_type": "markdown",
      "source": [
        "**XGB Regressor**"
      ],
      "metadata": {
        "id": "-Pjt8KrgxZp4"
      }
    },
    {
      "cell_type": "code",
      "source": [
        "from xgboost import XGBRegressor\n",
        "\n",
        "# División de datos\n",
        "X_train, X_test, y_train, y_test = train_test_split(X, y, test_size=0.2, random_state=42)\n",
        "\n",
        "# Entrenamiento del modelo Gradient Boosting (XGBoost)\n",
        "xgb_model = XGBRegressor(objective ='reg:squarederror', random_state=42)\n",
        "xgb_model.fit(X_train, y_train)\n",
        "\n",
        "# Predicciones\n",
        "y_pred_xgb = xgb_model.predict(X_test)\n",
        "\n",
        "# Evaluación del rendimiento del modelo\n",
        "mse_xgb = mean_squared_error(y_test, y_pred_xgb)\n",
        "print(f'Mean Squared Error (XGBoost): {mse_xgb}')\n",
        "\n",
        "# Hacer predicciones para un año específico y género\n",
        "sales_prediction_xgb = xgb_model.predict([[encoded_genre, year_to_predict]])*10\n",
        "print(f'Predicción de ventas globales para el género {genre_to_predict} en {year_to_predict} (XGBoost): {sales_prediction_xgb[0]} millones de unidades')\n"
      ],
      "metadata": {
        "colab": {
          "base_uri": "https://localhost:8080/"
        },
        "id": "arzr4jAvip9K",
        "outputId": "aa93532c-fd41-459c-c244-6a32b31dcfa2"
      },
      "execution_count": 122,
      "outputs": [
        {
          "output_type": "stream",
          "name": "stdout",
          "text": [
            "Mean Squared Error (XGBoost): 4.316280753108709\n",
            "Predicción de ventas globales para el género Platform en 2023 (XGBoost): 0.668180525302887 millones de unidades\n"
          ]
        }
      ]
    },
    {
      "cell_type": "code",
      "source": [
        "models = {\n",
        "    'Linear Regression': mse_linear_regression,\n",
        "    'Decision Tree': mse_decision_tree,\n",
        "    'Ridge Regression': mse_ridge,\n",
        "    'Random Forest': mse_rf,\n",
        "    'XGBoost': mse_xgb\n",
        "}\n",
        "sorted_models = sorted(models.items(), key=lambda x: x[1])\n"
      ],
      "metadata": {
        "id": "GIkXKgUOk37x"
      },
      "execution_count": 123,
      "outputs": []
    },
    {
      "cell_type": "code",
      "source": [
        "import networkx as nx\n",
        "import matplotlib.pyplot as plt\n",
        "\n",
        "# Crear un grafo dirigido (árbol binario)\n",
        "G = nx.DiGraph()\n",
        "\n",
        "# Agregar nodos al grafo\n",
        "for model, mse in sorted_models:\n",
        "    G.add_node(model, mse=mse)\n",
        "\n",
        "# Agregar aristas al grafo (conectar nodos según el orden de eficiencia)\n",
        "for i in range(len(sorted_models) - 1):\n",
        "    G.add_edge(sorted_models[i][0], sorted_models[i + 1][0])\n",
        "\n",
        "# Dibujar el grafo con etiquetas\n",
        "pos = nx.spring_layout(G)\n",
        "nx.draw(G, pos, with_labels=False, font_weight='bold', node_size=1000, node_color='lightblue', font_size=8)\n",
        "\n",
        "# Añadir etiquetas de MSE a los nodos\n",
        "labels = nx.get_node_attributes(G, 'mse')\n",
        "for node, (x, y) in pos.items():\n",
        "    plt.text(x, y, f\"{node}\\nMSE: {labels[node]:.2f}\", ha='center', va='center', bbox=dict(facecolor='white', edgecolor='none', boxstyle='round,pad=0.3'))\n",
        "\n",
        "# Añadir etiquetas de MSE a las aristas\n",
        "edge_labels = nx.get_edge_attributes(G, 'mse')\n",
        "for edge, mse in edge_labels.items():\n",
        "    x, y = (pos[edge[0]][0] + pos[edge[1]][0]) / 2, (pos[edge[0]][1] + pos[edge[1]][1]) / 2\n",
        "    plt.text(x, y, f\"MSE: {mse:.2f}\", ha='center', va='center', bbox=dict(facecolor='white', edgecolor='none', boxstyle='round,pad=0.3'))\n",
        "\n",
        "# Mostrar el gráfico\n",
        "plt.show()\n"
      ],
      "metadata": {
        "colab": {
          "base_uri": "https://localhost:8080/",
          "height": 516
        },
        "id": "IR1S4pkiljUM",
        "outputId": "a2a8cfc1-1b14-496a-cd8e-9239664979f0"
      },
      "execution_count": 125,
      "outputs": [
        {
          "output_type": "display_data",
          "data": {
            "text/plain": [
              "<Figure size 640x480 with 1 Axes>"
            ],
            "image/png": "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\n"
          },
          "metadata": {}
        }
      ]
    }
  ]
}
